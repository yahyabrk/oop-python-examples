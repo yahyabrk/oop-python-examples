class Car:
    def __init__(self, brand, color):
        self.brand = brand
        self.color = color

    def describe(self):
        return f"This is a {self.color} {self.brand} car."

class ElectricCar(Car):
    def __init__(self, brand, color, battery_capacity):
        super().__init__(brand, color)
        self.battery_capacity = battery_capacity

    def describe(self):
        return f"This is a {self.color} {self.brand} electric car with a {self.battery_capacity} kWh battery."

class SportsCar(Car):
    def __init__(self, brand, color, horsepower):
        super().__init__(brand, color)
        self.horsepower = horsepower

    def describe(self):
        return f"This is a {self.color} {self.brand} sports car with {self.horsepower} horsepower."

# Example usage:
tesla = ElectricCar("Tesla", "red", 100)
bmw = SportsCar("BMW", "blue", 450)
audi = Car("Audi", "black")

cars = [tesla, bmw, audi]

for car in cars:
    print(car.describe())
