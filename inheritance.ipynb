{
  "nbformat": 4,
  "nbformat_minor": 0,
  "metadata": {
    "colab": {
      "provenance": []
    },
    "kernelspec": {
      "name": "python3",
      "display_name": "Python 3"
    },
    "language_info": {
      "name": "python"
    }
  },
  "cells": [
    {
      "cell_type": "code",
      "source": [
        "class Car:\n",
        "    def __init__(self, brand, color):\n",
        "        self.brand = brand\n",
        "        self.color = color\n",
        "\n",
        "    def describe(self):\n",
        "        return f\"This is a {self.color} {self.brand} car.\"\n",
        "\n",
        "class ElectricCar(Car):\n",
        "    def __init__(self, brand, color, battery_capacity):\n",
        "        super().__init__(brand, color)\n",
        "        self.battery_capacity = battery_capacity\n",
        "\n",
        "    def describe(self):\n",
        "        return f\"This is a {self.color} {self.brand} electric car with a {self.battery_capacity} kWh battery.\"\n",
        "\n",
        "class SportsCar(Car):\n",
        "    def __init__(self, brand, color, horsepower):\n",
        "        super().__init__(brand, color)\n",
        "        self.horsepower = horsepower\n",
        "\n",
        "    def describe(self):\n",
        "        return f\"This is a {self.color} {self.brand} sports car with {self.horsepower} horsepower.\"\n",
        "\n",
        "tesla = ElectricCar(\"Tesla\", \"red\", 100)\n",
        "bmw = SportsCar(\"BMW\", \"blue\", 450)\n",
        "audi = Car(\"Audi\", \"black\")\n",
        "\n",
        "cars = [tesla, bmw, audi]\n",
        "\n",
        "for car in cars:\n",
        "    print(car.describe())"
      ],
      "metadata": {
        "colab": {
          "base_uri": "https://localhost:8080/"
        },
        "id": "9AvmXWtqxeHW",
        "outputId": "fbbd0908-8d7d-45b0-824f-231b0c68c96b"
      },
      "execution_count": 1,
      "outputs": [
        {
          "output_type": "stream",
          "name": "stdout",
          "text": [
            "This is a red Tesla electric car with a 100 kWh battery.\n",
            "This is a blue BMW sports car with 450 horsepower.\n",
            "This is a black Audi car.\n"
          ]
        }
      ]
    }
  ]
}