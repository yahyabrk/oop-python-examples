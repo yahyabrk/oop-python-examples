class Shape:
    def area(self):
        pass

class Square(Shape):
    def __init__(self, side):
        self.side = side

    def area(self):
        return self.side ** 2

class Circle(Shape):
    def __init__(self, radius):
        self.radius = radius

    def area(self):
        return 3.14 * self.radius ** 2

def print_area(shape):
    print(f"The area is: {shape.area()}")

# Örnek kullanım
square = Square(4)
circle = Circle(3)

print_area(square)  # Output: The area is: 16
print_area(circle)  # Output: The area is: 28.26
